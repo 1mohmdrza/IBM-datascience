{
 "cells": [
  {
   "cell_type": "markdown",
   "metadata": {},
   "source": [
    "# My Data Science Notebook"
   ]
  },
  {
   "cell_type": "markdown",
   "metadata": {},
   "source": [
    "# Introduction\n",
    "\n",
    "In this notebook, we will explore various data science tools, languages, and libraries. We will also perform some basic arithmetic operations and conversions."
   ]
  },
  {
   "cell_type": "markdown",
   "metadata": {},
   "source": [
    "# Data Science Languages\n",
    "\n",
    "- Python\n",
    "- R\n",
    "- SQL\n",
    "- Julia"
   ]
  },
  {
   "cell_type": "markdown",
   "metadata": {},
   "source": [
    "# Data Science Libraries\n",
    "\n",
    "- NumPy\n",
    "- Pandas\n",
    "- Matplotlib\n",
    "- Seaborn\n",
    "- Scikit-learn"
   ]
  },
  {
   "cell_type": "markdown",
   "metadata": {},
   "source": [
    "| Tool       | Description                                          |\n",
    "|------------|------------------------------------------------------|\n",
    "| Jupyter    | An open-source web application that allows you to create and share documents that contain live code, equations, visualizations and narrative text. |\n",
    "| RStudio    | A free and open-source integrated development environment (IDE) for R, a programming language for statistical computing and graphics. |\n",
    "| Anaconda   | A free and open-source distribution of the Python and"
   ]
  },
  {
   "cell_type": "markdown",
   "metadata": {},
   "source": [
    "# Arithmetic Expression Examples\n",
    "\n",
    "Let's explore some arithmetic expression examples:\n",
    "\n",
    "1. Multiply two numbers: `3 * 4 = 12`\n",
    "2. Add two numbers: `5 + 7 = 12`\n",
    "3. Subtract a number from another: `10 - 3 = 7`\n",
    "4. Divide two numbers: `12 / 4 = 3`\n",
    "5. Calculate the remainder of a division: `10 % 3 = 1`"
   ]
  },
  {
   "cell_type": "code",
   "execution_count": 1,
   "metadata": {},
   "outputs": [
    {
     "name": "stdout",
     "output_type": "stream",
     "text": [
      "The result of multiplying 3 and 4 is: 12\n",
      "The result of adding 5 and 7 is: 12\n"
     ]
    }
   ],
   "source": [
    "# Multiply two numbers\n",
    "a = 3\n",
    "b = 4\n",
    "result_multiply = a * b\n",
    "print(f\"The result of multiplying {a} and {b} is: {result_multiply}\")\n",
    "\n",
    "# Add two numbers\n",
    "c = 5\n",
    "d = 7\n",
    "result_add = c + d\n",
    "print(f\"The result of adding {c} and {d} is: {result_add}\")"
   ]
  },
  {
   "cell_type": "code",
   "execution_count": 2,
   "metadata": {},
   "outputs": [
    {
     "name": "stdout",
     "output_type": "stream",
     "text": [
      "120 minutes is equal to 2.0 hours.\n"
     ]
    }
   ],
   "source": [
    "# Convert minutes to hours\n",
    "minutes = 120\n",
    "hours = minutes / 60\n",
    "print(f\"{minutes} minutes is equal to {hours} hours.\")"
   ]
  },
  {
   "cell_type": "markdown",
   "metadata": {},
   "source": [
    "# Objectives\n",
    "\n",
    "1. Explore various data science tools, languages, and libraries.\n",
    "2. Perform basic arithmetic operations and conversions.\n",
    "3. Learn how to use Jupyterlite notebooks for data science tasks."
   ]
  },
  {
   "cell_type": "markdown",
   "metadata": {},
   "source": [
    "# Author\n",
    "\n",
    "This notebook was created by [MohammadrezaTaghavi]"
   ]
  },
  {
   "cell_type": "markdown",
   "metadata": {},
   "source": []
  }
 ],
 "metadata": {
  "kernelspec": {
   "display_name": "Python 3",
   "language": "python",
   "name": "python3"
  },
  "language_info": {
   "codemirror_mode": {
    "name": "ipython",
    "version": 3
   },
   "file_extension": ".py",
   "mimetype": "text/x-python",
   "name": "python",
   "nbconvert_exporter": "python",
   "pygments_lexer": "ipython3",
   "version": "3.12.1"
  }
 },
 "nbformat": 4,
 "nbformat_minor": 2
}
